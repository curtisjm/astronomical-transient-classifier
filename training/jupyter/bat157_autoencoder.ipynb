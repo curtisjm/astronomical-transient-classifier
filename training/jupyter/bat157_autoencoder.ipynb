{
 "cells": [
  {
   "cell_type": "code",
   "execution_count": 1,
   "metadata": {},
   "outputs": [],
   "source": [
    "## https://www.youtube.com/watch?v=JoR5HCs0n0s\n",
    "##\n",
    "## Using a simple autoencoder architcture to begin with on the BAT157 mo dataset\n"
   ]
  },
  {
   "cell_type": "code",
   "execution_count": 2,
   "metadata": {},
   "outputs": [],
   "source": [
    "import tensorflow as tf  \n",
    "from tensorflow import keras\n",
    "import cv2\n",
    "import numpy as np\n",
    "import matplotlib.pyplot as plt"
   ]
  },
  {
   "cell_type": "code",
   "execution_count": 7,
   "metadata": {},
   "outputs": [],
   "source": [
    "## Big array file\n",
    "dir='/Users/acucchiara/COM/proposal/SRP2021/work/'\n",
    "\n",
    "##\n",
    "b157file='BAT150_sim10_wl6_bl_5.npz'"
   ]
  },
  {
   "cell_type": "code",
   "execution_count": 10,
   "metadata": {},
   "outputs": [],
   "source": [
    "#Reade the array\n",
    "bat157=np.load(dir+b157file)\n",
    "bat157.files\n",
    "images, labels=bat157['image'],bat157['labels']"
   ]
  },
  {
   "cell_type": "code",
   "execution_count": 38,
   "metadata": {},
   "outputs": [
    {
     "name": "stdout",
     "output_type": "stream",
     "text": [
      "-0.1297691960452712\n"
     ]
    }
   ],
   "source": [
    "print((images[:]/0.0487).min())"
   ]
  },
  {
   "cell_type": "code",
   "execution_count": 13,
   "metadata": {},
   "outputs": [],
   "source": [
    "encoder_input = keras.Input(shape=(8, 155, 1), name='bat')"
   ]
  },
  {
   "cell_type": "code",
   "execution_count": 143,
   "metadata": {},
   "outputs": [],
   "source": [
    "#flattening the data and creating the bottleneck\n",
    "x = keras.layers.Flatten()(encoder_input)\n",
    "encoder_output = keras.layers.Dense(20, activation=\"relu\")(x)"
   ]
  },
  {
   "cell_type": "code",
   "execution_count": 144,
   "metadata": {},
   "outputs": [],
   "source": [
    "encoder = keras.Model(encoder_input, encoder_output, name='encoder')\n"
   ]
  },
  {
   "cell_type": "code",
   "execution_count": 145,
   "metadata": {},
   "outputs": [],
   "source": [
    "decoder_input = keras.layers.Dense(20, activation=\"relu\")(encoder_output)\n",
    "x = keras.layers.Dense(1240, activation=\"relu\")(decoder_input)  # 1240 is 8*155 features"
   ]
  },
  {
   "cell_type": "code",
   "execution_count": 146,
   "metadata": {},
   "outputs": [
    {
     "data": {
      "text/plain": [
       "1240"
      ]
     },
     "execution_count": 146,
     "metadata": {},
     "output_type": "execute_result"
    }
   ],
   "source": [
    "155*8"
   ]
  },
  {
   "cell_type": "code",
   "execution_count": 147,
   "metadata": {},
   "outputs": [],
   "source": [
    "decoder_output = keras.layers.Reshape((8, 155, 1))(x)"
   ]
  },
  {
   "cell_type": "code",
   "execution_count": 148,
   "metadata": {},
   "outputs": [
    {
     "name": "stdout",
     "output_type": "stream",
     "text": [
      "Model: \"autoencoder\"\n",
      "_________________________________________________________________\n",
      "Layer (type)                 Output Shape              Param #   \n",
      "=================================================================\n",
      "bat (InputLayer)             [(None, 8, 155, 1)]       0         \n",
      "_________________________________________________________________\n",
      "flatten_2 (Flatten)          (None, 1240)              0         \n",
      "_________________________________________________________________\n",
      "dense_10 (Dense)             (None, 20)                24820     \n",
      "_________________________________________________________________\n",
      "dense_11 (Dense)             (None, 20)                420       \n",
      "_________________________________________________________________\n",
      "dense_12 (Dense)             (None, 1240)              26040     \n",
      "_________________________________________________________________\n",
      "reshape_4 (Reshape)          (None, 8, 155, 1)         0         \n",
      "=================================================================\n",
      "Total params: 51,280\n",
      "Trainable params: 51,280\n",
      "Non-trainable params: 0\n",
      "_________________________________________________________________\n"
     ]
    }
   ],
   "source": [
    "autoencoder = keras.Model(encoder_input, decoder_output, name='autoencoder')\n",
    "autoencoder.summary()"
   ]
  },
  {
   "cell_type": "code",
   "execution_count": 149,
   "metadata": {},
   "outputs": [],
   "source": [
    "#We'll now compile our model with the optimizer and a loss metric. \n",
    "#We'll use mean squared error for loss (mse).\n",
    "# https://keras.io/api/losses/   for more loss functions\n",
    "opt = tf.keras.optimizers.Adam(lr=0.001, decay=1e-6)\n",
    "autoencoder.compile(opt, loss='mse',)"
   ]
  },
  {
   "cell_type": "code",
   "execution_count": 150,
   "metadata": {},
   "outputs": [
    {
     "name": "stdout",
     "output_type": "stream",
     "text": [
      "Epoch 1/4\n",
      "435/435 [==============================] - 1s 2ms/step - loss: 4.8478e-05 - val_loss: 3.2825e-07\n",
      "Epoch 2/4\n",
      "435/435 [==============================] - 1s 1ms/step - loss: 3.7770e-05 - val_loss: 3.2449e-07\n",
      "Epoch 3/4\n",
      "435/435 [==============================] - 1s 1ms/step - loss: 3.2573e-05 - val_loss: 3.1738e-07\n",
      "Epoch 4/4\n",
      "435/435 [==============================] - 1s 1ms/step - loss: 3.3045e-05 - val_loss: 3.2491e-07\n",
      "INFO:tensorflow:Assets written to: models/AE-1.model/assets\n",
      "Epoch 1/4\n",
      "435/435 [==============================] - 1s 1ms/step - loss: 3.0112e-05 - val_loss: 3.2903e-07\n",
      "Epoch 2/4\n",
      "435/435 [==============================] - 1s 1ms/step - loss: 3.1362e-05 - val_loss: 3.2249e-07\n",
      "Epoch 3/4\n",
      "435/435 [==============================] - 1s 1ms/step - loss: 2.9399e-05 - val_loss: 3.2496e-07\n",
      "Epoch 4/4\n",
      "435/435 [==============================] - 1s 1ms/step - loss: 3.0370e-05 - val_loss: 3.2765e-07\n",
      "INFO:tensorflow:Assets written to: models/AE-2.model/assets\n",
      "Epoch 1/4\n",
      "435/435 [==============================] - 1s 1ms/step - loss: 2.5029e-05 - val_loss: 3.2186e-07\n",
      "Epoch 2/4\n",
      "435/435 [==============================] - 1s 1ms/step - loss: 2.4225e-05 - val_loss: 3.2335e-07\n",
      "Epoch 3/4\n",
      "435/435 [==============================] - 1s 1ms/step - loss: 2.4902e-05 - val_loss: 3.2612e-07\n",
      "Epoch 4/4\n",
      "435/435 [==============================] - 1s 1ms/step - loss: 2.5054e-05 - val_loss: 3.2258e-07\n",
      "INFO:tensorflow:Assets written to: models/AE-3.model/assets\n",
      "Epoch 1/4\n",
      "435/435 [==============================] - 1s 1ms/step - loss: 2.0733e-05 - val_loss: 3.2140e-07\n",
      "Epoch 2/4\n",
      "435/435 [==============================] - 1s 1ms/step - loss: 2.2590e-05 - val_loss: 3.2375e-07\n",
      "Epoch 3/4\n",
      "435/435 [==============================] - 1s 1ms/step - loss: 2.0109e-05 - val_loss: 3.3589e-07\n",
      "Epoch 4/4\n",
      "435/435 [==============================] - 1s 1ms/step - loss: 2.1478e-05 - val_loss: 3.2513e-07\n",
      "INFO:tensorflow:Assets written to: models/AE-4.model/assets\n",
      "Epoch 1/4\n",
      "435/435 [==============================] - 1s 1ms/step - loss: 1.9561e-05 - val_loss: 3.2341e-07\n",
      "Epoch 2/4\n",
      "435/435 [==============================] - 1s 1ms/step - loss: 2.0459e-05 - val_loss: 3.2421e-07\n",
      "Epoch 3/4\n",
      "435/435 [==============================] - 1s 1ms/step - loss: 2.0299e-05 - val_loss: 3.2430e-07\n",
      "Epoch 4/4\n",
      "435/435 [==============================] - 1s 1ms/step - loss: 1.7853e-05 - val_loss: 3.2405e-07\n",
      "INFO:tensorflow:Assets written to: models/AE-5.model/assets\n",
      "Epoch 1/4\n",
      "435/435 [==============================] - 1s 1ms/step - loss: 1.9895e-05 - val_loss: 3.3234e-07\n",
      "Epoch 2/4\n",
      "435/435 [==============================] - 1s 1ms/step - loss: 1.6567e-05 - val_loss: 3.2410e-07\n",
      "Epoch 3/4\n",
      "435/435 [==============================] - 1s 1ms/step - loss: 1.5734e-05 - val_loss: 3.2455e-07\n",
      "Epoch 4/4\n",
      "435/435 [==============================] - 1s 1ms/step - loss: 1.6897e-05 - val_loss: 3.2171e-07\n",
      "INFO:tensorflow:Assets written to: models/AE-6.model/assets\n",
      "Epoch 1/4\n",
      "435/435 [==============================] - 1s 1ms/step - loss: 1.6894e-05 - val_loss: 3.2183e-07\n",
      "Epoch 2/4\n",
      "435/435 [==============================] - 1s 1ms/step - loss: 1.6653e-05 - val_loss: 3.2550e-07\n",
      "Epoch 3/4\n",
      "435/435 [==============================] - 1s 2ms/step - loss: 1.4082e-05 - val_loss: 3.2713e-07\n",
      "Epoch 4/4\n",
      "435/435 [==============================] - 1s 2ms/step - loss: 1.4395e-05 - val_loss: 3.2401e-07\n",
      "INFO:tensorflow:Assets written to: models/AE-7.model/assets\n",
      "Epoch 1/4\n",
      "435/435 [==============================] - 1s 1ms/step - loss: 1.6901e-05 - val_loss: 3.2403e-07\n",
      "Epoch 2/4\n",
      "435/435 [==============================] - 1s 1ms/step - loss: 1.3133e-05 - val_loss: 3.2260e-07\n",
      "Epoch 3/4\n",
      "435/435 [==============================] - 1s 1ms/step - loss: 1.2752e-05 - val_loss: 3.2382e-07\n",
      "Epoch 4/4\n",
      "435/435 [==============================] - 1s 1ms/step - loss: 1.2555e-05 - val_loss: 3.2240e-07\n",
      "INFO:tensorflow:Assets written to: models/AE-8.model/assets\n",
      "Epoch 1/4\n",
      "435/435 [==============================] - 1s 1ms/step - loss: 1.4810e-05 - val_loss: 3.2501e-07\n",
      "Epoch 2/4\n",
      "435/435 [==============================] - 1s 1ms/step - loss: 1.3360e-05 - val_loss: 3.2303e-07\n",
      "Epoch 3/4\n",
      "435/435 [==============================] - 1s 1ms/step - loss: 1.2546e-05 - val_loss: 3.2612e-07\n",
      "Epoch 4/4\n",
      "435/435 [==============================] - 1s 1ms/step - loss: 1.2568e-05 - val_loss: 3.2125e-07\n",
      "INFO:tensorflow:Assets written to: models/AE-9.model/assets\n",
      "Epoch 1/4\n",
      "435/435 [==============================] - 1s 1ms/step - loss: 1.2514e-05 - val_loss: 3.3207e-07\n",
      "Epoch 2/4\n",
      "435/435 [==============================] - 1s 1ms/step - loss: 1.3327e-05 - val_loss: 3.2341e-07\n",
      "Epoch 3/4\n",
      "435/435 [==============================] - 1s 1ms/step - loss: 1.3270e-05 - val_loss: 3.1751e-07\n",
      "Epoch 4/4\n",
      "435/435 [==============================] - 1s 2ms/step - loss: 1.1833e-05 - val_loss: 3.3021e-07\n",
      "INFO:tensorflow:Assets written to: models/AE-10.model/assets\n"
     ]
    }
   ],
   "source": [
    "epochs=5\n",
    "\n",
    "for epoch in range(epochs):\n",
    "\n",
    "    history = autoencoder.fit(\n",
    "      images/0.0487,\n",
    "      images/0.0487,\n",
    "      epochs=4, \n",
    "      batch_size=32, validation_split=0.10\n",
    "        )   \n",
    "    autoencoder.save(f\"models/AE-{epoch+1}.model\")"
   ]
  },
  {
   "cell_type": "code",
   "execution_count": 134,
   "metadata": {},
   "outputs": [
    {
     "name": "stdout",
     "output_type": "stream",
     "text": [
      "dict_keys(['loss', 'val_loss'])\n"
     ]
    }
   ],
   "source": [
    "print(history.history.keys())"
   ]
  },
  {
   "cell_type": "code",
   "execution_count": 135,
   "metadata": {},
   "outputs": [
    {
     "name": "stdout",
     "output_type": "stream",
     "text": [
      "(1, 50)\n"
     ]
    }
   ],
   "source": [
    "# First, let's look at an encoded example, because it's cool:\n",
    "example = encoder.predict([images[0].reshape(-1, 8, 155, 1)] )\n",
    "print(example.shape)"
   ]
  },
  {
   "cell_type": "code",
   "execution_count": 136,
   "metadata": {},
   "outputs": [
    {
     "name": "stdout",
     "output_type": "stream",
     "text": [
      "(50,)\n",
      "[0.03825222 0.         0.05131484 0.         0.         0.\n",
      " 0.         0.         0.04366006 0.01554061 0.         0.\n",
      " 0.         0.06293763 0.02478426 0.         0.04863582 0.\n",
      " 0.         0.         0.37470555 0.03252885 0.         0.\n",
      " 0.         0.         0.03096338 0.         0.         0.\n",
      " 0.         0.         0.04247659 0.         0.03688449 0.\n",
      " 0.         0.         0.         0.         0.         0.\n",
      " 0.         0.         0.         0.         0.         0.\n",
      " 0.         0.00914979]\n"
     ]
    },
    {
     "data": {
      "text/plain": [
       "<matplotlib.image.AxesImage at 0x1626eb950>"
      ]
     },
     "execution_count": 136,
     "metadata": {},
     "output_type": "execute_result"
    },
    {
     "data": {
      "image/png": "[encoded data removed]",
      "text/plain": [
       "<Figure size 432x288 with 1 Axes>"
      ]
     },
     "metadata": {
      "needs_background": "light"
     },
     "output_type": "display_data"
    }
   ],
   "source": [
    "print(example[0].shape)\n",
    "print(example[0])\n",
    "plt.imshow(example[0].reshape((2,25)), cmap=\"gray\")"
   ]
  },
  {
   "cell_type": "code",
   "execution_count": 137,
   "metadata": {},
   "outputs": [
    {
     "data": {
      "text/plain": [
       "<matplotlib.image.AxesImage at 0x16216c750>"
      ]
     },
     "execution_count": 137,
     "metadata": {},
     "output_type": "execute_result"
    },
    {
     "data": {
      "image/png": "[encoded data removed]",
      "text/plain": [
       "<Figure size 432x288 with 1 Axes>"
      ]
     },
     "metadata": {
      "needs_background": "light"
     },
     "output_type": "display_data"
    }
   ],
   "source": [
    "#That object was:\n",
    "plt.imshow(images[0]*0.0487, cmap=\"gray\")"
   ]
  },
  {
   "cell_type": "code",
   "execution_count": 138,
   "metadata": {},
   "outputs": [
    {
     "name": "stdout",
     "output_type": "stream",
     "text": [
      "[[[0.]\n",
      "  [0.]\n",
      "  [0.]\n",
      "  ...\n",
      "  [0.]\n",
      "  [0.]\n",
      "  [0.]]\n",
      "\n",
      " [[0.]\n",
      "  [0.]\n",
      "  [0.]\n",
      "  ...\n",
      "  [0.]\n",
      "  [0.]\n",
      "  [0.]]\n",
      "\n",
      " [[0.]\n",
      "  [0.]\n",
      "  [0.]\n",
      "  ...\n",
      "  [0.]\n",
      "  [0.]\n",
      "  [0.]]\n",
      "\n",
      " ...\n",
      "\n",
      " [[0.]\n",
      "  [0.]\n",
      "  [0.]\n",
      "  ...\n",
      "  [0.]\n",
      "  [0.]\n",
      "  [0.]]\n",
      "\n",
      " [[0.]\n",
      "  [0.]\n",
      "  [0.]\n",
      "  ...\n",
      "  [0.]\n",
      "  [0.]\n",
      "  [0.]]\n",
      "\n",
      " [[0.]\n",
      "  [0.]\n",
      "  [0.]\n",
      "  ...\n",
      "  [0.]\n",
      "  [0.]\n",
      "  [0.]]]\n"
     ]
    },
    {
     "data": {
      "image/png": "[encoded data removed]",
      "text/plain": [
       "<Figure size 432x288 with 1 Axes>"
      ]
     },
     "metadata": {
      "needs_background": "light"
     },
     "output_type": "display_data"
    }
   ],
   "source": [
    "# AFTER THE AUTOENCODER IT WAS:\n",
    "ae_out = autoencoder.predict([ images[1].reshape(-1, 8, 155, 1) ])\n",
    "img = ae_out[0]  # predict is done on a vector, and returns a vector, even if its just 1 element, so we still need to grab the 0th\n",
    "plt.imshow(ae_out[0]/0.0487, cmap=\"gray\")\n",
    "print(ae_out[0])"
   ]
  },
  {
   "cell_type": "code",
   "execution_count": 139,
   "metadata": {},
   "outputs": [],
   "source": [
    "#Using OpenCV, we can quickly cycle through a bunch of \n",
    "#examples by doing:\n",
    "\n",
    "for d in images[:5]:  # just show 5 examples, feel free to show all or however many you want!\n",
    "\n",
    "    ae_out = autoencoder.predict([ d.reshape(-1, 8, 155, 1) ])\n",
    "    img = ae_out[0]\n",
    "\n",
    "    cv2.imshow(\"decoded\",img )\n",
    "    cv2.imshow(\"original\",np.array(d))\n",
    "    cv2.waitKey(1000)  # wait 1000ms, 1 second, and then show the next."
   ]
  },
  {
   "cell_type": "code",
   "execution_count": 69,
   "metadata": {},
   "outputs": [],
   "source": [
    "## Following the suggestion of Peter Harrington:\n",
    "#https://scikit-learn.org/stable/modules/generated/sklearn.neighbors.KNeighborsClassifier.html\n",
    "#https://www.datacamp.com/community/tutorials/k-nearest-neighbor-classification-scikit-learn\n",
    "\n",
    "from sklearn.neighbors import KNeighborsClassifier\n",
    "from sklearn.model_selection import train_test_split"
   ]
  },
  {
   "cell_type": "code",
   "execution_count": 118,
   "metadata": {},
   "outputs": [],
   "source": [
    "# prepare the predicted images from the encoder portion\n",
    "X=[]\n",
    "\n",
    "for im in images:\n",
    "    val=encoder.predict(im.reshape(-1, 8, 155, 1) )\n",
    "    #print(val.shape)\n",
    "    X.append(val[0])"
   ]
  },
  {
   "cell_type": "code",
   "execution_count": 119,
   "metadata": {},
   "outputs": [
    {
     "name": "stdout",
     "output_type": "stream",
     "text": [
      "[[0.         0.         0.07632875 0.         0.         0.\n",
      "  0.         0.         0.07497109 0.15977375 0.         0.\n",
      "  0.         0.21994528 0.         0.         0.08159518 0.\n",
      "  0.         0.         0.35699314 0.04200723 0.         0.\n",
      "  0.         0.         0.00399086 0.         0.         0.\n",
      "  0.         0.05970611 0.01959756 0.         0.02944804 0.\n",
      "  0.         0.         0.         0.         0.         0.\n",
      "  0.         0.         0.         0.         0.         0.\n",
      "  0.         0.        ]\n",
      " [0.         0.         0.0761209  0.         0.         0.\n",
      "  0.         0.         0.07511173 0.16012155 0.         0.\n",
      "  0.         0.21992758 0.         0.         0.08120699 0.\n",
      "  0.         0.         0.3569238  0.04217125 0.         0.\n",
      "  0.         0.         0.00393685 0.         0.         0.\n",
      "  0.         0.05955221 0.01926135 0.         0.02957396 0.\n",
      "  0.         0.         0.         0.         0.         0.\n",
      "  0.         0.         0.         0.         0.         0.\n",
      "  0.         0.        ]]\n"
     ]
    }
   ],
   "source": [
    "print(np.array(X[0:2]))\n"
   ]
  },
  {
   "cell_type": "code",
   "execution_count": 120,
   "metadata": {},
   "outputs": [
    {
     "name": "stdout",
     "output_type": "stream",
     "text": [
      "(10822, 50)\n"
     ]
    }
   ],
   "source": [
    "X_train, X_test, y_train, y_test = train_test_split(np.array(X), labels, test_size=0.3)\n",
    "print(X_train.shape)"
   ]
  },
  {
   "cell_type": "code",
   "execution_count": 127,
   "metadata": {},
   "outputs": [
    {
     "data": {
      "text/plain": [
       "KNeighborsClassifier(algorithm='auto', leaf_size=30, metric='minkowski',\n",
       "                     metric_params=None, n_jobs=None, n_neighbors=20, p=2,\n",
       "                     weights='uniform')"
      ]
     },
     "execution_count": 127,
     "metadata": {},
     "output_type": "execute_result"
    }
   ],
   "source": [
    "neigh = KNeighborsClassifier(n_neighbors=30)\n",
    "neigh.fit(X_train, y_train)"
   ]
  },
  {
   "cell_type": "code",
   "execution_count": 129,
   "metadata": {},
   "outputs": [
    {
     "name": "stdout",
     "output_type": "stream",
     "text": [
      "[1]\n",
      "[ 1  1  1  2 20  1  1  1 25]\n"
     ]
    }
   ],
   "source": [
    "print(neigh.predict([X_test[3]]))\n",
    "print(y_test[1:10])"
   ]
  },
  {
   "cell_type": "code",
   "execution_count": null,
   "metadata": {},
   "outputs": [],
   "source": []
  }
 ],
 "metadata": {
  "kernelspec": {
   "display_name": "Python 3",
   "language": "python",
   "name": "python3"
  },
  "language_info": {
   "codemirror_mode": {
    "name": "ipython",
    "version": 3
   },
   "file_extension": ".py",
   "mimetype": "text/x-python",
   "name": "python",
   "nbconvert_exporter": "python",
   "pygments_lexer": "ipython3",
   "version": "3.7.4"
  }
 },
 "nbformat": 4,
 "nbformat_minor": 2
}
