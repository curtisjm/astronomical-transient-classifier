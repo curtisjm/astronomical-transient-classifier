{
 "cells": [
  {
   "cell_type": "code",
   "execution_count": 1,
   "metadata": {},
   "outputs": [],
   "source": [
    "# First autoecoder classification\n",
    "# from https://machinelearningmastery.com/autoencoder-for-classification/"
   ]
  },
  {
   "cell_type": "code",
   "execution_count": 60,
   "metadata": {},
   "outputs": [],
   "source": [
    "# train autoencoder for classification with no compression in the bottleneck layer\n",
    "from sklearn.datasets import make_classification\n",
    "from sklearn.preprocessing import MinMaxScaler\n",
    "from sklearn.model_selection import train_test_split\n",
    "from tensorflow.keras.models import Model\n",
    "from tensorflow.keras.layers import Input\n",
    "from tensorflow.keras.layers import Dense\n",
    "from tensorflow.keras.layers import LeakyReLU\n",
    "from tensorflow.keras.layers import BatchNormalization\n",
    "from tensorflow.keras.utils import plot_model\n",
    "from matplotlib import pyplot"
   ]
  },
  {
   "cell_type": "code",
   "execution_count": 61,
   "metadata": {},
   "outputs": [
    {
     "name": "stdout",
     "output_type": "stream",
     "text": [
      "(1000, 100) (1000,)\n"
     ]
    }
   ],
   "source": [
    "# synthetic classification dataset\n",
    "from sklearn.datasets import make_classification\n",
    "# define dataset\n",
    "X, y = make_classification(n_samples=1000, n_features=100, n_informative=10,\\\n",
    "                           n_redundant=90, random_state=1)\n",
    "# summarize the dataset\n",
    "print(X.shape, y.shape)\n",
    "# number of input columns\n",
    "n_inputs = X.shape[1]"
   ]
  },
  {
   "cell_type": "code",
   "execution_count": 70,
   "metadata": {},
   "outputs": [
    {
     "name": "stdout",
     "output_type": "stream",
     "text": [
      "[  5.83689773   9.48106626  -5.92914747  -7.82151576  -2.22453167\n",
      "   3.24925124   2.15594557  -0.46799647  -1.25246432  -0.49995106\n",
      "   3.78505142  -0.77075038  -3.17679888  -1.77249333  -2.09592625\n",
      "   9.65435399   2.82563057  -6.56849576  -5.10718989   7.71941227\n",
      "   0.12683247   2.82880781   6.17280078  -4.36957215  -1.59321296\n",
      "   0.56590662  -6.41206747   3.04305773   0.7263226    1.64614409\n",
      "   5.45274412  -5.58440186   3.96875142  -1.23695275   3.0062571\n",
      "   4.92968678   4.21240208  -8.88919389  -1.07853488   2.65771081\n",
      "  -2.34433743  -2.510802     5.52202794   3.69455395   3.48952688\n",
      "   0.70533154  -8.94715742  -4.22278654  -0.22471273   0.30838571\n",
      "   2.58117055  -0.31636206   4.51306921   1.55461939   3.18986208\n",
      "   0.70959555  -6.58348566   0.54916767  -5.88338193  -2.04299324\n",
      "   1.78167828   6.88576894   1.71056973   2.7168235    3.64663557\n",
      "  -2.75877244  -6.91255754  -1.34518683  -4.01340193  -1.99442459\n",
      "  -2.07334021  -4.13586603  -0.33292776  -3.47482927  -5.00557214\n",
      "   0.63734049  -1.87084689   5.06243379   1.60941138  -8.26323188\n",
      "   8.07898252  -0.91067149   7.40088235   3.12428847   4.27134924\n",
      "   9.9168451   -7.77279127   3.29983324   7.86617945  -5.5400444\n",
      "  -0.37388723   3.81924823  -0.33543814 -10.22085507   2.72991659\n",
      "  -2.05734889   4.4319278    5.37136211   5.7226078    0.51555388] [1 0 0 1 0 1 1 1 0 0]\n"
     ]
    }
   ],
   "source": [
    "print(X[0],y[0:10])"
   ]
  },
  {
   "cell_type": "code",
   "execution_count": 63,
   "metadata": {},
   "outputs": [],
   "source": [
    "# split into train test sets\n",
    "X_train, X_test, y_train, y_test = train_test_split(X, y, test_size=0.33, random_state=1)\n",
    "# scale data\n",
    "t = MinMaxScaler()\n",
    "t.fit(X_train)\n",
    "X_train = t.transform(X_train)\n",
    "X_test = t.transform(X_test)"
   ]
  },
  {
   "cell_type": "code",
   "execution_count": 64,
   "metadata": {},
   "outputs": [],
   "source": [
    "# define encoder\n",
    "visible = Input(shape=(n_inputs,))\n",
    "# encoder level 1\n",
    "e = Dense(n_inputs*2)(visible)\n",
    "e = BatchNormalization()(e)\n",
    "e = LeakyReLU()(e)\n",
    "# encoder level 2\n",
    "e = Dense(n_inputs)(e)\n",
    "e = BatchNormalization()(e)\n",
    "e = LeakyReLU()(e)\n",
    "\n",
    "#   --------------------------------------  PART that makes the change, the bottleneck  size\n",
    "# bottleneck \n",
    "#n_bottleneck = n_inputs\n",
    "#bottleneck = Dense(n_bottleneck)(e)\n",
    "\n",
    "# bottleneck\n",
    "n_bottleneck = round(float(n_inputs) / 2.0)\n",
    "bottleneck = Dense(n_bottleneck)(e)"
   ]
  },
  {
   "cell_type": "code",
   "execution_count": 65,
   "metadata": {},
   "outputs": [],
   "source": [
    "# define decoder, level 1\n",
    "d = Dense(n_inputs)(bottleneck)\n",
    "d = BatchNormalization()(d)\n",
    "d = LeakyReLU()(d)\n",
    "# decoder level 2\n",
    "d = Dense(n_inputs*2)(d)\n",
    "d = BatchNormalization()(d)\n",
    "d = LeakyReLU()(d)\n",
    "# output layer\n",
    "output = Dense(n_inputs, activation='linear')(d)\n",
    "# define autoencoder model\n",
    "model = Model(inputs=visible, outputs=output)"
   ]
  },
  {
   "cell_type": "code",
   "execution_count": 66,
   "metadata": {},
   "outputs": [],
   "source": [
    "# compile autoencoder model\n",
    "model.compile(optimizer='adam', loss='mse')"
   ]
  },
  {
   "cell_type": "code",
   "execution_count": 67,
   "metadata": {},
   "outputs": [
    {
     "name": "stdout",
     "output_type": "stream",
     "text": [
      "Epoch 1/200\n",
      "42/42 - 0s - loss: 0.2328 - val_loss: 0.2110\n",
      "Epoch 2/200\n",
      "42/42 - 0s - loss: 0.0388 - val_loss: 0.1288\n",
      "Epoch 3/200\n",
      "42/42 - 0s - loss: 0.0249 - val_loss: 0.0671\n",
      "Epoch 4/200\n",
      "42/42 - 0s - loss: 0.0193 - val_loss: 0.0352\n",
      "Epoch 5/200\n",
      "42/42 - 0s - loss: 0.0166 - val_loss: 0.0229\n",
      "Epoch 6/200\n",
      "42/42 - 0s - loss: 0.0138 - val_loss: 0.0153\n",
      "Epoch 7/200\n",
      "42/42 - 0s - loss: 0.0137 - val_loss: 0.0131\n",
      "Epoch 8/200\n",
      "42/42 - 0s - loss: 0.0121 - val_loss: 0.0087\n",
      "Epoch 9/200\n",
      "42/42 - 0s - loss: 0.0110 - val_loss: 0.0096\n",
      "Epoch 10/200\n",
      "42/42 - 0s - loss: 0.0099 - val_loss: 0.0057\n",
      "Epoch 11/200\n",
      "42/42 - 0s - loss: 0.0098 - val_loss: 0.0067\n",
      "Epoch 12/200\n",
      "42/42 - 0s - loss: 0.0097 - val_loss: 0.0091\n",
      "Epoch 13/200\n",
      "42/42 - 0s - loss: 0.0090 - val_loss: 0.0064\n",
      "Epoch 14/200\n",
      "42/42 - 0s - loss: 0.0090 - val_loss: 0.0050\n",
      "Epoch 15/200\n",
      "42/42 - 0s - loss: 0.0086 - val_loss: 0.0049\n",
      "Epoch 16/200\n",
      "42/42 - 0s - loss: 0.0084 - val_loss: 0.0040\n",
      "Epoch 17/200\n",
      "42/42 - 0s - loss: 0.0079 - val_loss: 0.0046\n",
      "Epoch 18/200\n",
      "42/42 - 0s - loss: 0.0077 - val_loss: 0.0044\n",
      "Epoch 19/200\n",
      "42/42 - 0s - loss: 0.0079 - val_loss: 0.0040\n",
      "Epoch 20/200\n",
      "42/42 - 0s - loss: 0.0077 - val_loss: 0.0043\n",
      "Epoch 21/200\n",
      "42/42 - 0s - loss: 0.0077 - val_loss: 0.0038\n",
      "Epoch 22/200\n",
      "42/42 - 0s - loss: 0.0074 - val_loss: 0.0056\n",
      "Epoch 23/200\n",
      "42/42 - 0s - loss: 0.0075 - val_loss: 0.0032\n",
      "Epoch 24/200\n",
      "42/42 - 0s - loss: 0.0072 - val_loss: 0.0045\n",
      "Epoch 25/200\n",
      "42/42 - 0s - loss: 0.0078 - val_loss: 0.0037\n",
      "Epoch 26/200\n",
      "42/42 - 0s - loss: 0.0069 - val_loss: 0.0040\n",
      "Epoch 27/200\n",
      "42/42 - 0s - loss: 0.0069 - val_loss: 0.0049\n",
      "Epoch 28/200\n",
      "42/42 - 0s - loss: 0.0069 - val_loss: 0.0038\n",
      "Epoch 29/200\n",
      "42/42 - 0s - loss: 0.0067 - val_loss: 0.0037\n",
      "Epoch 30/200\n",
      "42/42 - 0s - loss: 0.0062 - val_loss: 0.0039\n",
      "Epoch 31/200\n",
      "42/42 - 0s - loss: 0.0066 - val_loss: 0.0039\n",
      "Epoch 32/200\n",
      "42/42 - 0s - loss: 0.0064 - val_loss: 0.0035\n",
      "Epoch 33/200\n",
      "42/42 - 0s - loss: 0.0066 - val_loss: 0.0031\n",
      "Epoch 34/200\n",
      "42/42 - 0s - loss: 0.0064 - val_loss: 0.0032\n",
      "Epoch 35/200\n",
      "42/42 - 0s - loss: 0.0066 - val_loss: 0.0036\n",
      "Epoch 36/200\n",
      "42/42 - 0s - loss: 0.0061 - val_loss: 0.0031\n",
      "Epoch 37/200\n",
      "42/42 - 0s - loss: 0.0058 - val_loss: 0.0038\n",
      "Epoch 38/200\n",
      "42/42 - 0s - loss: 0.0058 - val_loss: 0.0040\n",
      "Epoch 39/200\n",
      "42/42 - 0s - loss: 0.0059 - val_loss: 0.0035\n",
      "Epoch 40/200\n",
      "42/42 - 0s - loss: 0.0055 - val_loss: 0.0032\n",
      "Epoch 41/200\n",
      "42/42 - 0s - loss: 0.0058 - val_loss: 0.0022\n",
      "Epoch 42/200\n",
      "42/42 - 0s - loss: 0.0058 - val_loss: 0.0032\n",
      "Epoch 43/200\n",
      "42/42 - 0s - loss: 0.0059 - val_loss: 0.0033\n",
      "Epoch 44/200\n",
      "42/42 - 0s - loss: 0.0059 - val_loss: 0.0030\n",
      "Epoch 45/200\n",
      "42/42 - 0s - loss: 0.0056 - val_loss: 0.0030\n",
      "Epoch 46/200\n",
      "42/42 - 0s - loss: 0.0057 - val_loss: 0.0033\n",
      "Epoch 47/200\n",
      "42/42 - 0s - loss: 0.0057 - val_loss: 0.0031\n",
      "Epoch 48/200\n",
      "42/42 - 0s - loss: 0.0054 - val_loss: 0.0026\n",
      "Epoch 49/200\n",
      "42/42 - 0s - loss: 0.0059 - val_loss: 0.0027\n",
      "Epoch 50/200\n",
      "42/42 - 0s - loss: 0.0055 - val_loss: 0.0034\n",
      "Epoch 51/200\n",
      "42/42 - 0s - loss: 0.0054 - val_loss: 0.0032\n",
      "Epoch 52/200\n",
      "42/42 - 0s - loss: 0.0053 - val_loss: 0.0025\n",
      "Epoch 53/200\n",
      "42/42 - 0s - loss: 0.0052 - val_loss: 0.0023\n",
      "Epoch 54/200\n",
      "42/42 - 0s - loss: 0.0052 - val_loss: 0.0032\n",
      "Epoch 55/200\n",
      "42/42 - 0s - loss: 0.0054 - val_loss: 0.0021\n",
      "Epoch 56/200\n",
      "42/42 - 0s - loss: 0.0051 - val_loss: 0.0033\n",
      "Epoch 57/200\n",
      "42/42 - 0s - loss: 0.0053 - val_loss: 0.0039\n",
      "Epoch 58/200\n",
      "42/42 - 0s - loss: 0.0053 - val_loss: 0.0024\n",
      "Epoch 59/200\n",
      "42/42 - 0s - loss: 0.0054 - val_loss: 0.0028\n",
      "Epoch 60/200\n",
      "42/42 - 0s - loss: 0.0052 - val_loss: 0.0039\n",
      "Epoch 61/200\n",
      "42/42 - 0s - loss: 0.0050 - val_loss: 0.0024\n",
      "Epoch 62/200\n",
      "42/42 - 0s - loss: 0.0050 - val_loss: 0.0026\n",
      "Epoch 63/200\n",
      "42/42 - 0s - loss: 0.0052 - val_loss: 0.0031\n",
      "Epoch 64/200\n",
      "42/42 - 0s - loss: 0.0044 - val_loss: 0.0022\n",
      "Epoch 65/200\n",
      "42/42 - 0s - loss: 0.0045 - val_loss: 0.0029\n",
      "Epoch 66/200\n",
      "42/42 - 0s - loss: 0.0045 - val_loss: 0.0022\n",
      "Epoch 67/200\n",
      "42/42 - 0s - loss: 0.0045 - val_loss: 0.0019\n",
      "Epoch 68/200\n",
      "42/42 - 0s - loss: 0.0045 - val_loss: 0.0018\n",
      "Epoch 69/200\n",
      "42/42 - 0s - loss: 0.0048 - val_loss: 0.0027\n",
      "Epoch 70/200\n",
      "42/42 - 0s - loss: 0.0047 - val_loss: 0.0023\n",
      "Epoch 71/200\n",
      "42/42 - 0s - loss: 0.0048 - val_loss: 0.0027\n",
      "Epoch 72/200\n",
      "42/42 - 0s - loss: 0.0048 - val_loss: 0.0024\n",
      "Epoch 73/200\n",
      "42/42 - 0s - loss: 0.0048 - val_loss: 0.0034\n",
      "Epoch 74/200\n",
      "42/42 - 0s - loss: 0.0050 - val_loss: 0.0019\n",
      "Epoch 75/200\n",
      "42/42 - 0s - loss: 0.0046 - val_loss: 0.0022\n",
      "Epoch 76/200\n",
      "42/42 - 0s - loss: 0.0046 - val_loss: 0.0025\n",
      "Epoch 77/200\n",
      "42/42 - 0s - loss: 0.0045 - val_loss: 0.0023\n",
      "Epoch 78/200\n",
      "42/42 - 0s - loss: 0.0048 - val_loss: 0.0021\n",
      "Epoch 79/200\n",
      "42/42 - 0s - loss: 0.0045 - val_loss: 0.0022\n",
      "Epoch 80/200\n",
      "42/42 - 0s - loss: 0.0046 - val_loss: 0.0030\n",
      "Epoch 81/200\n",
      "42/42 - 0s - loss: 0.0050 - val_loss: 0.0020\n",
      "Epoch 82/200\n",
      "42/42 - 0s - loss: 0.0048 - val_loss: 0.0026\n",
      "Epoch 83/200\n",
      "42/42 - 0s - loss: 0.0048 - val_loss: 0.0016\n",
      "Epoch 84/200\n",
      "42/42 - 0s - loss: 0.0048 - val_loss: 0.0023\n",
      "Epoch 85/200\n",
      "42/42 - 0s - loss: 0.0044 - val_loss: 0.0019\n",
      "Epoch 86/200\n",
      "42/42 - 0s - loss: 0.0044 - val_loss: 0.0024\n",
      "Epoch 87/200\n",
      "42/42 - 0s - loss: 0.0050 - val_loss: 0.0027\n",
      "Epoch 88/200\n",
      "42/42 - 0s - loss: 0.0047 - val_loss: 0.0028\n",
      "Epoch 89/200\n",
      "42/42 - 0s - loss: 0.0045 - val_loss: 0.0022\n",
      "Epoch 90/200\n",
      "42/42 - 0s - loss: 0.0044 - val_loss: 0.0020\n",
      "Epoch 91/200\n",
      "42/42 - 0s - loss: 0.0042 - val_loss: 0.0024\n",
      "Epoch 92/200\n",
      "42/42 - 0s - loss: 0.0044 - val_loss: 0.0025\n",
      "Epoch 93/200\n",
      "42/42 - 0s - loss: 0.0044 - val_loss: 0.0015\n",
      "Epoch 94/200\n",
      "42/42 - 0s - loss: 0.0043 - val_loss: 0.0019\n",
      "Epoch 95/200\n",
      "42/42 - 0s - loss: 0.0041 - val_loss: 0.0024\n",
      "Epoch 96/200\n",
      "42/42 - 0s - loss: 0.0042 - val_loss: 0.0024\n",
      "Epoch 97/200\n",
      "42/42 - 0s - loss: 0.0041 - val_loss: 0.0031\n",
      "Epoch 98/200\n",
      "42/42 - 0s - loss: 0.0041 - val_loss: 0.0018\n",
      "Epoch 99/200\n",
      "42/42 - 0s - loss: 0.0044 - val_loss: 0.0017\n",
      "Epoch 100/200\n",
      "42/42 - 0s - loss: 0.0045 - val_loss: 0.0028\n",
      "Epoch 101/200\n",
      "42/42 - 0s - loss: 0.0043 - val_loss: 0.0023\n",
      "Epoch 102/200\n",
      "42/42 - 0s - loss: 0.0043 - val_loss: 0.0022\n",
      "Epoch 103/200\n",
      "42/42 - 0s - loss: 0.0042 - val_loss: 0.0018\n",
      "Epoch 104/200\n",
      "42/42 - 0s - loss: 0.0044 - val_loss: 0.0018\n",
      "Epoch 105/200\n",
      "42/42 - 0s - loss: 0.0039 - val_loss: 0.0021\n",
      "Epoch 106/200\n",
      "42/42 - 0s - loss: 0.0043 - val_loss: 0.0025\n",
      "Epoch 107/200\n",
      "42/42 - 0s - loss: 0.0041 - val_loss: 0.0023\n",
      "Epoch 108/200\n",
      "42/42 - 0s - loss: 0.0043 - val_loss: 0.0016\n",
      "Epoch 109/200\n",
      "42/42 - 0s - loss: 0.0043 - val_loss: 0.0025\n",
      "Epoch 110/200\n",
      "42/42 - 0s - loss: 0.0042 - val_loss: 0.0014\n",
      "Epoch 111/200\n",
      "42/42 - 0s - loss: 0.0040 - val_loss: 0.0017\n",
      "Epoch 112/200\n",
      "42/42 - 0s - loss: 0.0040 - val_loss: 0.0022\n",
      "Epoch 113/200\n",
      "42/42 - 0s - loss: 0.0036 - val_loss: 0.0022\n",
      "Epoch 114/200\n",
      "42/42 - 0s - loss: 0.0038 - val_loss: 0.0015\n",
      "Epoch 115/200\n",
      "42/42 - 0s - loss: 0.0041 - val_loss: 0.0020\n",
      "Epoch 116/200\n",
      "42/42 - 0s - loss: 0.0040 - val_loss: 0.0016\n",
      "Epoch 117/200\n",
      "42/42 - 0s - loss: 0.0041 - val_loss: 0.0014\n",
      "Epoch 118/200\n",
      "42/42 - 0s - loss: 0.0039 - val_loss: 0.0020\n",
      "Epoch 119/200\n",
      "42/42 - 0s - loss: 0.0042 - val_loss: 0.0021\n",
      "Epoch 120/200\n",
      "42/42 - 0s - loss: 0.0039 - val_loss: 0.0017\n",
      "Epoch 121/200\n",
      "42/42 - 0s - loss: 0.0039 - val_loss: 0.0020\n",
      "Epoch 122/200\n",
      "42/42 - 0s - loss: 0.0037 - val_loss: 0.0016\n",
      "Epoch 123/200\n",
      "42/42 - 0s - loss: 0.0039 - val_loss: 0.0019\n",
      "Epoch 124/200\n",
      "42/42 - 0s - loss: 0.0036 - val_loss: 0.0018\n",
      "Epoch 125/200\n",
      "42/42 - 0s - loss: 0.0037 - val_loss: 0.0017\n",
      "Epoch 126/200\n",
      "42/42 - 0s - loss: 0.0040 - val_loss: 0.0022\n",
      "Epoch 127/200\n",
      "42/42 - 0s - loss: 0.0037 - val_loss: 0.0017\n",
      "Epoch 128/200\n",
      "42/42 - 0s - loss: 0.0036 - val_loss: 0.0016\n",
      "Epoch 129/200\n",
      "42/42 - 0s - loss: 0.0042 - val_loss: 0.0021\n",
      "Epoch 130/200\n",
      "42/42 - 0s - loss: 0.0043 - val_loss: 0.0018\n",
      "Epoch 131/200\n",
      "42/42 - 0s - loss: 0.0038 - val_loss: 0.0014\n",
      "Epoch 132/200\n",
      "42/42 - 0s - loss: 0.0037 - val_loss: 0.0019\n",
      "Epoch 133/200\n",
      "42/42 - 0s - loss: 0.0039 - val_loss: 0.0015\n",
      "Epoch 134/200\n",
      "42/42 - 0s - loss: 0.0036 - val_loss: 0.0018\n",
      "Epoch 135/200\n",
      "42/42 - 0s - loss: 0.0042 - val_loss: 0.0018\n",
      "Epoch 136/200\n",
      "42/42 - 0s - loss: 0.0035 - val_loss: 0.0016\n",
      "Epoch 137/200\n",
      "42/42 - 0s - loss: 0.0035 - val_loss: 0.0018\n",
      "Epoch 138/200\n",
      "42/42 - 0s - loss: 0.0040 - val_loss: 0.0016\n",
      "Epoch 139/200\n",
      "42/42 - 0s - loss: 0.0037 - val_loss: 0.0014\n",
      "Epoch 140/200\n",
      "42/42 - 0s - loss: 0.0038 - val_loss: 0.0017\n",
      "Epoch 141/200\n",
      "42/42 - 0s - loss: 0.0036 - val_loss: 0.0018\n"
     ]
    },
    {
     "name": "stdout",
     "output_type": "stream",
     "text": [
      "Epoch 142/200\n",
      "42/42 - 0s - loss: 0.0039 - val_loss: 0.0015\n",
      "Epoch 143/200\n",
      "42/42 - 0s - loss: 0.0036 - val_loss: 0.0012\n",
      "Epoch 144/200\n",
      "42/42 - 0s - loss: 0.0038 - val_loss: 0.0019\n",
      "Epoch 145/200\n",
      "42/42 - 0s - loss: 0.0037 - val_loss: 0.0018\n",
      "Epoch 146/200\n",
      "42/42 - 0s - loss: 0.0036 - val_loss: 0.0027\n",
      "Epoch 147/200\n",
      "42/42 - 0s - loss: 0.0037 - val_loss: 0.0021\n",
      "Epoch 148/200\n",
      "42/42 - 0s - loss: 0.0038 - val_loss: 0.0014\n",
      "Epoch 149/200\n",
      "42/42 - 0s - loss: 0.0036 - val_loss: 0.0023\n",
      "Epoch 150/200\n",
      "42/42 - 0s - loss: 0.0036 - val_loss: 0.0017\n",
      "Epoch 151/200\n",
      "42/42 - 0s - loss: 0.0036 - val_loss: 0.0016\n",
      "Epoch 152/200\n",
      "42/42 - 0s - loss: 0.0038 - val_loss: 0.0016\n",
      "Epoch 153/200\n",
      "42/42 - 0s - loss: 0.0037 - val_loss: 0.0010\n",
      "Epoch 154/200\n",
      "42/42 - 0s - loss: 0.0035 - val_loss: 0.0018\n",
      "Epoch 155/200\n",
      "42/42 - 0s - loss: 0.0037 - val_loss: 0.0014\n",
      "Epoch 156/200\n",
      "42/42 - 0s - loss: 0.0036 - val_loss: 0.0014\n",
      "Epoch 157/200\n",
      "42/42 - 0s - loss: 0.0036 - val_loss: 0.0015\n",
      "Epoch 158/200\n",
      "42/42 - 0s - loss: 0.0034 - val_loss: 0.0012\n",
      "Epoch 159/200\n",
      "42/42 - 0s - loss: 0.0036 - val_loss: 0.0013\n",
      "Epoch 160/200\n",
      "42/42 - 0s - loss: 0.0032 - val_loss: 0.0014\n",
      "Epoch 161/200\n",
      "42/42 - 0s - loss: 0.0035 - val_loss: 0.0016\n",
      "Epoch 162/200\n",
      "42/42 - 0s - loss: 0.0036 - val_loss: 0.0013\n",
      "Epoch 163/200\n",
      "42/42 - 0s - loss: 0.0033 - val_loss: 0.0011\n",
      "Epoch 164/200\n",
      "42/42 - 0s - loss: 0.0035 - val_loss: 0.0015\n",
      "Epoch 165/200\n",
      "42/42 - 0s - loss: 0.0034 - val_loss: 0.0013\n",
      "Epoch 166/200\n",
      "42/42 - 0s - loss: 0.0035 - val_loss: 0.0014\n",
      "Epoch 167/200\n",
      "42/42 - 0s - loss: 0.0035 - val_loss: 0.0016\n",
      "Epoch 168/200\n",
      "42/42 - 0s - loss: 0.0033 - val_loss: 0.0011\n",
      "Epoch 169/200\n",
      "42/42 - 0s - loss: 0.0033 - val_loss: 0.0011\n",
      "Epoch 170/200\n",
      "42/42 - 0s - loss: 0.0035 - val_loss: 0.0018\n",
      "Epoch 171/200\n",
      "42/42 - 0s - loss: 0.0034 - val_loss: 0.0014\n",
      "Epoch 172/200\n",
      "42/42 - 0s - loss: 0.0036 - val_loss: 0.0015\n",
      "Epoch 173/200\n",
      "42/42 - 0s - loss: 0.0033 - val_loss: 0.0020\n",
      "Epoch 174/200\n",
      "42/42 - 0s - loss: 0.0035 - val_loss: 9.8996e-04\n",
      "Epoch 175/200\n",
      "42/42 - 0s - loss: 0.0036 - val_loss: 0.0018\n",
      "Epoch 176/200\n",
      "42/42 - 0s - loss: 0.0035 - val_loss: 0.0018\n",
      "Epoch 177/200\n",
      "42/42 - 0s - loss: 0.0036 - val_loss: 0.0017\n",
      "Epoch 178/200\n",
      "42/42 - 0s - loss: 0.0033 - val_loss: 0.0012\n",
      "Epoch 179/200\n",
      "42/42 - 0s - loss: 0.0032 - val_loss: 0.0016\n",
      "Epoch 180/200\n",
      "42/42 - 0s - loss: 0.0033 - val_loss: 0.0013\n",
      "Epoch 181/200\n",
      "42/42 - 0s - loss: 0.0038 - val_loss: 0.0012\n",
      "Epoch 182/200\n",
      "42/42 - 0s - loss: 0.0031 - val_loss: 0.0014\n",
      "Epoch 183/200\n",
      "42/42 - 0s - loss: 0.0034 - val_loss: 0.0015\n",
      "Epoch 184/200\n",
      "42/42 - 0s - loss: 0.0035 - val_loss: 0.0011\n",
      "Epoch 185/200\n",
      "42/42 - 0s - loss: 0.0032 - val_loss: 0.0013\n",
      "Epoch 186/200\n",
      "42/42 - 0s - loss: 0.0032 - val_loss: 0.0016\n",
      "Epoch 187/200\n",
      "42/42 - 0s - loss: 0.0038 - val_loss: 0.0013\n",
      "Epoch 188/200\n",
      "42/42 - 0s - loss: 0.0032 - val_loss: 0.0012\n",
      "Epoch 189/200\n",
      "42/42 - 0s - loss: 0.0031 - val_loss: 0.0015\n",
      "Epoch 190/200\n",
      "42/42 - 0s - loss: 0.0031 - val_loss: 0.0013\n",
      "Epoch 191/200\n",
      "42/42 - 0s - loss: 0.0032 - val_loss: 0.0013\n",
      "Epoch 192/200\n",
      "42/42 - 0s - loss: 0.0034 - val_loss: 0.0019\n",
      "Epoch 193/200\n",
      "42/42 - 0s - loss: 0.0035 - val_loss: 0.0018\n",
      "Epoch 194/200\n",
      "42/42 - 0s - loss: 0.0032 - val_loss: 0.0012\n",
      "Epoch 195/200\n",
      "42/42 - 0s - loss: 0.0028 - val_loss: 9.0095e-04\n",
      "Epoch 196/200\n",
      "42/42 - 0s - loss: 0.0030 - val_loss: 0.0013\n",
      "Epoch 197/200\n",
      "42/42 - 0s - loss: 0.0031 - val_loss: 7.3433e-04\n",
      "Epoch 198/200\n",
      "42/42 - 0s - loss: 0.0031 - val_loss: 0.0013\n",
      "Epoch 199/200\n",
      "42/42 - 0s - loss: 0.0032 - val_loss: 9.7477e-04\n",
      "Epoch 200/200\n",
      "42/42 - 0s - loss: 0.0030 - val_loss: 0.0013\n"
     ]
    }
   ],
   "source": [
    "# fit the autoencoder model to reconstruct input\n",
    "history = model.fit(X_train, X_train, epochs=200, batch_size=16, verbose=2, validation_data=(X_test,X_test))\n"
   ]
  },
  {
   "cell_type": "code",
   "execution_count": 53,
   "metadata": {},
   "outputs": [
    {
     "data": {
      "image/png": "[encoded data removed]",
      "text/plain": [
       "<Figure size 432x288 with 1 Axes>"
      ]
     },
     "metadata": {
      "needs_background": "light"
     },
     "output_type": "display_data"
    }
   ],
   "source": [
    "# plot loss\n",
    "pyplot.plot(history.history['loss'], label='train')\n",
    "pyplot.plot(history.history['val_loss'], label='test')\n",
    "pyplot.legend()\n",
    "pyplot.show()\n"
   ]
  },
  {
   "cell_type": "code",
   "execution_count": 54,
   "metadata": {},
   "outputs": [],
   "source": [
    "# define an encoder model (without the decoder)\n",
    "encoder = Model(inputs=visible, outputs=bottleneck)\n",
    "#plot_model(encoder, 'encoder_no_compress.png', show_shapes=True)\n",
    "# save the encoder to file\n",
    "encoder.save('encoder.h5')"
   ]
  },
  {
   "cell_type": "markdown",
   "metadata": {},
   "source": [
    "### Encoder as Data Preparation for Predictive Model\n",
    "In this section, we will use the trained encoder from the autoencoder to compress input data and train a different predictive model.\n",
    "\n",
    "First, let’s establish a baseline in performance on this problem. This is important as if the performance of a model is not improved by the compressed encoding, then the compressed encoding does not add value to the project and should not be used.\n",
    "\n",
    "We can train a logistic regression model on the training dataset directly and evaluate the performance of the model on the holdout test set.\n",
    "\n",
    "The complete example is listed below."
   ]
  },
  {
   "cell_type": "code",
   "execution_count": 55,
   "metadata": {},
   "outputs": [
    {
     "name": "stdout",
     "output_type": "stream",
     "text": [
      "0.8939393939393939\n"
     ]
    },
    {
     "name": "stderr",
     "output_type": "stream",
     "text": [
      "/opt/anaconda3/lib/python3.7/site-packages/sklearn/linear_model/logistic.py:432: FutureWarning: Default solver will be changed to 'lbfgs' in 0.22. Specify a solver to silence this warning.\n",
      "  FutureWarning)\n"
     ]
    }
   ],
   "source": [
    "# baseline in performance with logistic regression model\n",
    "from sklearn.datasets import make_classification\n",
    "from sklearn.preprocessing import MinMaxScaler\n",
    "from sklearn.preprocessing import LabelEncoder\n",
    "from sklearn.model_selection import train_test_split\n",
    "from sklearn.linear_model import LogisticRegression\n",
    "from sklearn.metrics import accuracy_score\n",
    "from keras.models import load_model\n",
    "# define dataset\n",
    "X, y = make_classification(n_samples=1000, n_features=100, n_informative=10, n_redundant=90, random_state=1)\n",
    "# split into train test sets\n",
    "X_train, X_test, y_train, y_test = train_test_split(X, y, test_size=0.33, random_state=1)\n",
    "# scale data\n",
    "t = MinMaxScaler()\n",
    "t.fit(X_train)\n",
    "X_train = t.transform(X_train)\n",
    "X_test = t.transform(X_test)\n",
    "# define model\n",
    "model = LogisticRegression()\n",
    "# fit model on training set\n",
    "model.fit(X_train, y_train)\n",
    "# make prediction on test set\n",
    "yhat = model.predict(X_test)\n",
    "# calculate accuracy\n",
    "acc = accuracy_score(y_test, yhat)\n",
    "print(acc)"
   ]
  },
  {
   "cell_type": "code",
   "execution_count": 41,
   "metadata": {},
   "outputs": [
    {
     "name": "stdout",
     "output_type": "stream",
     "text": [
      "WARNING:tensorflow:No training configuration found in the save file, so the model was *not* compiled. Compile it manually.\n"
     ]
    }
   ],
   "source": [
    "# load the model from file\n",
    "encoder = load_model('encoder.h5')"
   ]
  },
  {
   "cell_type": "code",
   "execution_count": 56,
   "metadata": {},
   "outputs": [],
   "source": [
    "\n",
    "# encode the train data\n",
    "X_train_encode = encoder.predict(X_train)\n",
    "# encode the test data\n",
    "X_test_encode = encoder.predict(X_test)\n"
   ]
  },
  {
   "cell_type": "code",
   "execution_count": 57,
   "metadata": {},
   "outputs": [
    {
     "name": "stderr",
     "output_type": "stream",
     "text": [
      "/opt/anaconda3/lib/python3.7/site-packages/sklearn/linear_model/logistic.py:432: FutureWarning: Default solver will be changed to 'lbfgs' in 0.22. Specify a solver to silence this warning.\n",
      "  FutureWarning)\n"
     ]
    }
   ],
   "source": [
    "# define the model\n",
    "model = LogisticRegression()\n",
    "# fit the model on the training set\n",
    "model.fit(X_train_encode, y_train)\n",
    "# make predictions on the test set\n",
    "yhat = model.predict(X_test_encode)"
   ]
  },
  {
   "cell_type": "code",
   "execution_count": 59,
   "metadata": {},
   "outputs": [
    {
     "name": "stdout",
     "output_type": "stream",
     "text": [
      "0.9424242424242424\n"
     ]
    },
    {
     "name": "stderr",
     "output_type": "stream",
     "text": [
      "/opt/anaconda3/lib/python3.7/site-packages/sklearn/linear_model/logistic.py:432: FutureWarning: Default solver will be changed to 'lbfgs' in 0.22. Specify a solver to silence this warning.\n",
      "  FutureWarning)\n"
     ]
    }
   ],
   "source": [
    "# evaluate logistic regression on encoded input\n",
    "from sklearn.datasets import make_classification\n",
    "from sklearn.preprocessing import MinMaxScaler\n",
    "from sklearn.preprocessing import LabelEncoder\n",
    "from sklearn.model_selection import train_test_split\n",
    "from sklearn.linear_model import LogisticRegression\n",
    "from sklearn.metrics import accuracy_score\n",
    "from tensorflow.keras.models import load_model\n",
    "# define dataset\n",
    "X, y = make_classification(n_samples=1000, n_features=100, n_informative=10, n_redundant=90, random_state=1)\n",
    "# split into train test sets\n",
    "X_train, X_test, y_train, y_test = train_test_split(X, y, test_size=0.33, random_state=1)\n",
    "# scale data\n",
    "t = MinMaxScaler()\n",
    "t.fit(X_train)\n",
    "X_train = t.transform(X_train)\n",
    "X_test = t.transform(X_test)\n",
    "# load the model from file\n",
    "#encoder = load_model('encoder.h5')\n",
    "# encode the train data\n",
    "X_train_encode = encoder.predict(X_train)\n",
    "# encode the test data\n",
    "X_test_encode = encoder.predict(X_test)\n",
    "# define the model\n",
    "model = LogisticRegression()\n",
    "# fit the model on the training set\n",
    "model.fit(X_train_encode, y_train)\n",
    "# make predictions on the test set\n",
    "yhat = model.predict(X_test_encode)\n",
    "# calculate classification accuracy\n",
    "acc = accuracy_score(y_test, yhat)\n",
    "print(acc)"
   ]
  },
  {
   "cell_type": "code",
   "execution_count": 79,
   "metadata": {},
   "outputs": [],
   "source": [
    "## From the https://pythonprogramming.net/autoencoders-tutorial/"
   ]
  },
  {
   "cell_type": "code",
   "execution_count": 80,
   "metadata": {},
   "outputs": [],
   "source": [
    "import tensorflow as tf  \n",
    "from tensorflow import keras\n",
    "import cv2\n",
    "import numpy as np"
   ]
  },
  {
   "cell_type": "code",
   "execution_count": 81,
   "metadata": {},
   "outputs": [],
   "source": [
    "(x_train, y_train),(x_test, y_test) = tf.keras.datasets.mnist.load_data()  # loads the popular \"mnist\" training dataset\n",
    "\n",
    "x_train = x_train/255.0  # scales the data. pixel values range from 0 to 255, so this makes it range 0 to 1\n",
    "x_test = x_test/255.0  # scales the data. pixel values range from 0 to 255, so this makes it range 0 to 1"
   ]
  },
  {
   "cell_type": "code",
   "execution_count": 83,
   "metadata": {},
   "outputs": [
    {
     "data": {
      "text/plain": [
       "<matplotlib.image.AxesImage at 0x12d5e25d0>"
      ]
     },
     "execution_count": 83,
     "metadata": {},
     "output_type": "execute_result"
    },
    {
     "data": {
      "image/png": "[encoded data removed]",
      "text/plain": [
       "<Figure size 432x288 with 1 Axes>"
      ]
     },
     "metadata": {
      "needs_background": "light"
     },
     "output_type": "display_data"
    }
   ],
   "source": [
    "import matplotlib.pyplot as plt\n",
    "\n",
    "plt.imshow(x_train[0], cmap=\"gray\")\n"
   ]
  },
  {
   "cell_type": "code",
   "execution_count": 89,
   "metadata": {},
   "outputs": [
    {
     "name": "stdout",
     "output_type": "stream",
     "text": [
      "(28, 28)\n"
     ]
    }
   ],
   "source": [
    "print(x_train[0].shape)"
   ]
  },
  {
   "cell_type": "code",
   "execution_count": 91,
   "metadata": {},
   "outputs": [
    {
     "data": {
      "text/plain": [
       "(60000, 28, 28)"
      ]
     },
     "execution_count": 91,
     "metadata": {},
     "output_type": "execute_result"
    }
   ],
   "source": [
    "x_train.shape"
   ]
  },
  {
   "cell_type": "code",
   "execution_count": 94,
   "metadata": {},
   "outputs": [],
   "source": [
    "#https://keras.io/api/layers/core_layers/input/\n",
    "encoder_input = keras.Input(shape=(28, 28, 1), name='img')"
   ]
  },
  {
   "cell_type": "code",
   "execution_count": 97,
   "metadata": {},
   "outputs": [],
   "source": [
    "#flattening the data\n",
    "x = keras.layers.Flatten()(encoder_input)\n"
   ]
  },
  {
   "cell_type": "code",
   "execution_count": 98,
   "metadata": {},
   "outputs": [],
   "source": [
    "# compression (bottleneck layer)\n",
    "encoder_output = keras.layers.Dense(64, activation=\"relu\")(x)\n",
    "#That's it. So all this model does is take input of 28x28, flatten to \n",
    "#a vector of 784 values, then go to a fully-connected dense layer \n",
    "#of a mere 64 values."
   ]
  },
  {
   "cell_type": "code",
   "execution_count": 99,
   "metadata": {},
   "outputs": [],
   "source": [
    "#With that, we're actually done with our encoder already:\n",
    "encoder = keras.Model(encoder_input, encoder_output, name='encoder')\n"
   ]
  },
  {
   "cell_type": "code",
   "execution_count": 100,
   "metadata": {},
   "outputs": [],
   "source": [
    "#Now, we want to define our decoder. \n",
    "#The decoder's job is going to be to take this vector of 64 \n",
    "# (at the moment) values and then \"decompress\" it back to the \n",
    "#original image.\n",
    "decoder_input = keras.layers.Dense(64, activation=\"relu\")(encoder_output)\n",
    "x = keras.layers.Dense(784, activation=\"relu\")(decoder_input)"
   ]
  },
  {
   "cell_type": "code",
   "execution_count": 101,
   "metadata": {},
   "outputs": [],
   "source": [
    "#Finally, our image isn't a vector of 784 values, it's a 2D array \n",
    "#of 28 x 28 values\n",
    "\n",
    "decoder_output = keras.layers.Reshape((28, 28, 1))(x)"
   ]
  },
  {
   "cell_type": "code",
   "execution_count": 102,
   "metadata": {},
   "outputs": [],
   "source": [
    "#Now that the model architecture is done, we'll set an optimizer:\n",
    "opt = tf.keras.optimizers.Adam(lr=0.001, decay=1e-6)"
   ]
  },
  {
   "cell_type": "code",
   "execution_count": 103,
   "metadata": {},
   "outputs": [],
   "source": [
    "autoencoder = keras.Model(encoder_input, decoder_output, name='autoencoder')"
   ]
  },
  {
   "cell_type": "code",
   "execution_count": 104,
   "metadata": {},
   "outputs": [
    {
     "name": "stdout",
     "output_type": "stream",
     "text": [
      "Model: \"autoencoder\"\n",
      "_________________________________________________________________\n",
      "Layer (type)                 Output Shape              Param #   \n",
      "=================================================================\n",
      "input_5 (InputLayer)         [(None, 28, 28, 1)]       0         \n",
      "_________________________________________________________________\n",
      "flatten (Flatten)            (None, 784)               0         \n",
      "_________________________________________________________________\n",
      "dense_25 (Dense)             (None, 64)                50240     \n",
      "_________________________________________________________________\n",
      "dense_26 (Dense)             (None, 64)                4160      \n",
      "_________________________________________________________________\n",
      "dense_27 (Dense)             (None, 784)               50960     \n",
      "_________________________________________________________________\n",
      "reshape (Reshape)            (None, 28, 28, 1)         0         \n",
      "=================================================================\n",
      "Total params: 105,360\n",
      "Trainable params: 105,360\n",
      "Non-trainable params: 0\n",
      "_________________________________________________________________\n"
     ]
    }
   ],
   "source": [
    "autoencoder.summary()"
   ]
  },
  {
   "cell_type": "code",
   "execution_count": 105,
   "metadata": {},
   "outputs": [],
   "source": [
    "#We'll now compile our model with the optimizer and a loss metric. \n",
    "#We'll use mean squared error for loss (mse).\n",
    "\n",
    "autoencoder.compile(opt, loss='mse')"
   ]
  },
  {
   "cell_type": "code",
   "execution_count": 106,
   "metadata": {},
   "outputs": [
    {
     "name": "stdout",
     "output_type": "stream",
     "text": [
      "1688/1688 [==============================] - 3s 2ms/step - loss: 0.0209 - val_loss: 0.0147\n",
      "WARNING:tensorflow:From /opt/anaconda3/lib/python3.7/site-packages/tensorflow/python/ops/resource_variable_ops.py:1817: calling BaseResourceVariable.__init__ (from tensorflow.python.ops.resource_variable_ops) with constraint is deprecated and will be removed in a future version.\n",
      "Instructions for updating:\n",
      "If using Keras pass *_constraint arguments to layers.\n",
      "INFO:tensorflow:Assets written to: models/AE-1.model/assets\n",
      "1688/1688 [==============================] - 2s 1ms/step - loss: 0.0139 - val_loss: 0.0133\n",
      "INFO:tensorflow:Assets written to: models/AE-2.model/assets\n",
      "1688/1688 [==============================] - 2s 1ms/step - loss: 0.0129 - val_loss: 0.0126\n",
      "INFO:tensorflow:Assets written to: models/AE-3.model/assets\n"
     ]
    }
   ],
   "source": [
    "epochs=3\n",
    "\n",
    "for epoch in range(epochs):\n",
    "\n",
    "    history = autoencoder.fit(\n",
    "      x_train,\n",
    "      x_train,\n",
    "      epochs=1, \n",
    "      batch_size=32, validation_split=0.10\n",
    "        )   \n",
    "    autoencoder.save(f\"models/AE-{epoch+1}.model\")"
   ]
  },
  {
   "cell_type": "code",
   "execution_count": 107,
   "metadata": {},
   "outputs": [],
   "source": [
    "# First, let's look at an encoded example, because it's cool:\n",
    "example = encoder.predict([ x_test[0].reshape(-1, 28, 28, 1) ])"
   ]
  },
  {
   "cell_type": "code",
   "execution_count": 109,
   "metadata": {},
   "outputs": [
    {
     "name": "stdout",
     "output_type": "stream",
     "text": [
      "(64,)\n",
      "[1.311414   0.5080854  0.6708172  0.53078485 0.         0.2421467\n",
      " 1.1647054  1.4037511  1.5170581  0.5638564  1.7137744  1.697468\n",
      " 2.554486   1.4112358  0.7545754  2.4015262  0.         0.08490559\n",
      " 1.5636034  1.033664   1.3777997  0.8299916  2.8062398  2.189281\n",
      " 1.3204079  0.80245745 1.1541886  1.300938   0.22815503 1.9035292\n",
      " 1.7922783  0.5608642  2.3317666  1.4998709  1.1250737  1.0643752\n",
      " 0.1288506  0.31012052 1.0668097  0.         2.383809   1.6380063\n",
      " 0.9468849  0.         1.2931417  1.201523   1.0478566  2.5152242\n",
      " 3.2169785  0.9224385  1.3170872  1.1829087  0.6573962  0.68930906\n",
      " 1.7454548  0.4598354  0.         0.86505574 1.2220619  1.4632474\n",
      " 0.         2.7139387  2.2555754  0.24778247]\n"
     ]
    },
    {
     "data": {
      "text/plain": [
       "<matplotlib.image.AxesImage at 0x1794f19d0>"
      ]
     },
     "execution_count": 109,
     "metadata": {},
     "output_type": "execute_result"
    },
    {
     "data": {
      "image/png": "[encoded data removed]",
      "text/plain": [
       "<Figure size 432x288 with 1 Axes>"
      ]
     },
     "metadata": {
      "needs_background": "light"
     },
     "output_type": "display_data"
    }
   ],
   "source": [
    "print(example[0].shape)\n",
    "print(example[0])\n",
    "plt.imshow(example[0].reshape((8,8)), cmap=\"gray\")"
   ]
  },
  {
   "cell_type": "code",
   "execution_count": 110,
   "metadata": {},
   "outputs": [
    {
     "data": {
      "text/plain": [
       "<matplotlib.image.AxesImage at 0x17945edd0>"
      ]
     },
     "execution_count": 110,
     "metadata": {},
     "output_type": "execute_result"
    },
    {
     "data": {
      "image/png": "[encoded data removed]",
      "text/plain": [
       "<Figure size 432x288 with 1 Axes>"
      ]
     },
     "metadata": {
      "needs_background": "light"
     },
     "output_type": "display_data"
    }
   ],
   "source": [
    "#That number was:\n",
    "plt.imshow(x_test[0], cmap=\"gray\")"
   ]
  },
  {
   "cell_type": "code",
   "execution_count": 111,
   "metadata": {},
   "outputs": [
    {
     "data": {
      "text/plain": [
       "<matplotlib.image.AxesImage at 0x1793f5ed0>"
      ]
     },
     "execution_count": 111,
     "metadata": {},
     "output_type": "execute_result"
    },
    {
     "data": {
      "image/png": "[encoded data removed]",
      "text/plain": [
       "<Figure size 432x288 with 1 Axes>"
      ]
     },
     "metadata": {
      "needs_background": "light"
     },
     "output_type": "display_data"
    }
   ],
   "source": [
    "# AFTER THE AUTOENCODER IT WAS:\n",
    "ae_out = autoencoder.predict([ x_test[0].reshape(-1, 28, 28, 1) ])\n",
    "img = ae_out[0]  # predict is done on a vector, and returns a vector, even if its just 1 element, so we still need to grab the 0th\n",
    "plt.imshow(ae_out[0], cmap=\"gray\")"
   ]
  },
  {
   "cell_type": "code",
   "execution_count": 112,
   "metadata": {},
   "outputs": [],
   "source": [
    "#Using OpenCV, we can quickly cycle through a bunch of \n",
    "#examples by doing:\n",
    "\n",
    "for d in x_test[:5]:  # just show 5 examples, feel free to show all or however many you want!\n",
    "\n",
    "    ae_out = autoencoder.predict([ d.reshape(-1, 28, 28, 1) ])\n",
    "    img = ae_out[0]\n",
    "\n",
    "    cv2.imshow(\"decoded\",img)\n",
    "    cv2.imshow(\"original\",np.array(d))\n",
    "    cv2.waitKey(1000)  # wait 1000ms, 1 second, and then show the next."
   ]
  },
  {
   "cell_type": "code",
   "execution_count": null,
   "metadata": {},
   "outputs": [],
   "source": []
  }
 ],
 "metadata": {
  "kernelspec": {
   "display_name": "Python 3",
   "language": "python",
   "name": "python3"
  },
  "language_info": {
   "codemirror_mode": {
    "name": "ipython",
    "version": 3
   },
   "file_extension": ".py",
   "mimetype": "text/x-python",
   "name": "python",
   "nbconvert_exporter": "python",
   "pygments_lexer": "ipython3",
   "version": "3.7.4"
  }
 },
 "nbformat": 4,
 "nbformat_minor": 2
}
